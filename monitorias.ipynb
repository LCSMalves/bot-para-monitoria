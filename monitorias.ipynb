{
  "nbformat": 4,
  "nbformat_minor": 0,
  "metadata": {
    "colab": {
      "provenance": [],
      "mount_file_id": "17F344gSB6T1tz-tHn5aetFHZirUNLONv",
      "authorship_tag": "ABX9TyMqx0o6coW95536+EelZIlk",
      "include_colab_link": true
    },
    "kernelspec": {
      "name": "python3",
      "display_name": "Python 3"
    },
    "language_info": {
      "name": "python"
    }
  },
  "cells": [
    {
      "cell_type": "markdown",
      "metadata": {
        "id": "view-in-github",
        "colab_type": "text"
      },
      "source": [
        "<a href=\"https://colab.research.google.com/github/LCSMalves/bot-para-monitoria/blob/main/monitorias.ipynb\" target=\"_parent\"><img src=\"https://colab.research.google.com/assets/colab-badge.svg\" alt=\"Open In Colab\"/></a>"
      ]
    },
    {
      "source": [
        "import pandas as pd\n",
        "import google.generativeai as genai\n",
        "from google.colab import userdata\n",
        "\n",
        "GOOGLE_API_KEY=userdata.get('GOOGLE_API_KEY')\n",
        "genai.configure(api_key=GOOGLE_API_KEY)\n",
        "gemini_model = genai.GenerativeModel('gemini-2.5-flash-preview-05-20')"
      ],
      "cell_type": "code",
      "metadata": {
        "id": "lwokVIwzuqsD"
      },
      "execution_count": 1,
      "outputs": []
    },
    {
      "cell_type": "code",
      "source": [
        "try:\n",
        "    df = pd.read_csv('conversas - Página1.csv')\n",
        "except FileNotFoundError:\n",
        "    print(\"Erro: O arquivo 'conversas.csv' não foi encontrado. Por favor, verifique o caminho do arquivo.\")\n",
        "    data = {'Conversa': [\"Atendimento bom, cliente satisfeito.\", \"Atendimento ruim, cliente insatisfeito.\", \"Atendimento ok, sem problemas.\", \"Atendimento excelente, cliente muito feliz.\"],\n",
        "            'Agente': [\"Agente A\", \"Agente B\", \"Agente A\", \"Agente C\"]}\n",
        "    df = pd.DataFrame(data)\n",
        "    print(\"Criado um DataFrame de exemplo para continuar.\")\n",
        "\n",
        "\n",
        "if 'Avaliação Gemini' not in df.columns:\n",
        "    df['Avaliação Gemini'] = None\n",
        "\n",
        "display(df.head())"
      ],
      "metadata": {
        "id": "RHz0faguUG1S"
      },
      "execution_count": null,
      "outputs": []
    },
    {
      "cell_type": "code",
      "source": [
        "\n",
        "checklist = \"\"\"\n",
        "\n",
        "Informe se a execução foi correta ou incorreta;\n",
        "Quem foi o responsavel pela FCR, o Passageiro, o Agente ou os processos da Latam;\n",
        "Se o procedimento solicitado pelo passageiro foi realizado ou não realizado;\n",
        "\n",
        "E selecione um desses motivos para casos não resolvidos:\n",
        "VALORES ALTOS\n",
        "PROCEDIMENTO INCORRETO\n",
        "PENDENTE INDEVIDO\n",
        "NÃO RESOLVIDO\n",
        "CLIENTE NÃO RESPONDE\n",
        "POSTURA\n",
        "SINERGIA\n",
        "VOO INDISPONIVEL\n",
        "RESOLVIDO INDEVIDO\n",
        "REGRA DO PRODUTO\n",
        "SEM MOTIVO\n",
        "FOI REALIZADO\n",
        "DEMORA DO ATENDIMENTO\n",
        "CORTE DE ATENDIMENTO\n",
        "TRANSFERENCIA HVC\n",
        "ERRO CART.PASS\n",
        "FALHA NA FERRAMENTA\n",
        "TELEFONE NÃO ATENDE\n",
        "COMPRA AGENCIA\n",
        "PAX NÃO ACEITA VALORES\n",
        "check-in não permitido\n",
        "TRANSFERENCIA INDEVIDA\n",
        "CLIENTE EM DOIS CANAIS DE ATENDIMENTO;\n",
        "\n",
        "\"\"\"\n",
        "\n",
        "for index, row in df.iterrows():\n",
        "    conversa = row['Conversa']\n",
        "\n",
        "    prompt = f\"\"\"\n",
        "\n",
        "    haja como um monitor de qualidade da companhia aerea Latam e avalie a seguinte conversa de chat do ponto de vista de qualidade de atendimento, separe cada agente que participou do contato,\n",
        "    Leve em conta as regras da companhia aérea, seguindo esses requisitos:(aponte abaixo caso um deles não seja cumprido)\n",
        "\n",
        "    Assistente não pode direcionar o pax para o aeroporto;\n",
        "    Assistente não pode direcionar para outro assistente;\n",
        "    Em remarcações voluntarias, não podemos mudar de mercado, exemplo, de nacional para internacional;\n",
        "    Seguir as regras comerciais da Latam;\n",
        "    Não seguimos a CDC e sim a lei ANAC;\n",
        "    Não abrimos casos de reclamação ou direcionamos o pax para abertura no site, resolvemos em linha a situação já passando a resolução no atendimento;\n",
        "    Caso o passageiro fique mais de 3 minutos sem responder, o assistente deve questionar se o passageiro ainda esta na online, caso passe mais 2 minutos sem resposta, o assistente deve enviar para pendente (Você ainda está disponível para continuar com a nossa conversa? Se desejar continuar, responda a esta mensagem e teremos o prazer de transferi-lo para um de nossos executivos.) e não para a pesquisa de satisfação;\n",
        "    Reservas vendidas por agencia, devemos realizar apenas remarcação dentro de 48 horas antes do voo e em casos de remarcação por parte da companhia e check-in, não realizamos nenhum outro tipo de atendimento para agencias;\n",
        "\n",
        "    Após isso realize o seguinte:\n",
        "    Primeiramente, apresente os dados do contato;\n",
        "    Apresente o tempo de resposta do agente durante todo o contato, avaliando esse tempo (considere auto casos acima de 5 minutos), mas caso agente utilize o script de pausa longa, esse tempo pode ser maior (10 minutos);\n",
        "    Verifique a ortografia e gramática do texto;\n",
        "    Em seguida apresente uma avaliação do contato;\n",
        "    Apresente os pontos positivos e negativos do atendimento;\n",
        "    Apresente um feedback para ser enviado via chat para o agente;\n",
        "\n",
        "    Não avaliar o Bot;\n",
        "\n",
        "    Por favor, seguindo o checklist abaixo, explicando brevemente o porquê:\n",
        "\n",
        "    Checklist:\n",
        "    {checklist}\n",
        "\n",
        "    Conversa:\n",
        "    {conversa}\n",
        "\n",
        "    Avaliação:\n",
        "    \"\"\"\n",
        "\n",
        "    try:\n",
        "        response = gemini_model.generate_content(prompt)\n",
        "\n",
        "        df.loc[index, 'Avaliação Gemini'] = response.text\n",
        "\n",
        "    except Exception as e:\n",
        "        print(f\"Erro ao processar a conversa {index}: {e}\")\n",
        "        df.loc[index, 'Avaliação Gemini'] = f\"Erro: {e}\"\n",
        "\n",
        "display(df.head())"
      ],
      "metadata": {
        "id": "K0gRkxdXUKbL"
      },
      "execution_count": null,
      "outputs": []
    },
    {
      "cell_type": "code",
      "source": [
        "output_filename = 'conversas_avaliadas.csv'\n",
        "df.to_csv(output_filename, index=False)\n",
        "\n",
        "print(f\"Planilha atualizada salva como '{output_filename}'\")"
      ],
      "metadata": {
        "id": "9nncITzaUhjj"
      },
      "execution_count": null,
      "outputs": []
    },
    {
      "cell_type": "code",
      "source": [
        "print(\"Amostra das avaliações por agente:\")\n",
        "\n",
        "for agente, avaliacoes in df.groupby('Agente')['Avaliação Gemini']:\n",
        "    print(f\"\\nAgente: {agente}\")\n",
        "    for i, avaliacao in enumerate(avaliacoes.dropna().tolist()):\n",
        "        if i >= 5:\n",
        "            break\n",
        "        print(f\"- {avaliacao[:200]}...\")"
      ],
      "metadata": {
        "id": "BZv9hXowUcpM"
      },
      "execution_count": null,
      "outputs": []
    }
  ]
}